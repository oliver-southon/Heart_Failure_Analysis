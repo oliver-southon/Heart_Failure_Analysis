{
 "cells": [
  {
   "cell_type": "markdown",
   "id": "insured-defeat",
   "metadata": {},
   "source": [
    "# -Imports-"
   ]
  },
  {
   "cell_type": "code",
   "execution_count": 1,
   "id": "interesting-sweet",
   "metadata": {},
   "outputs": [],
   "source": [
    "import pandas as pd\n",
    "import csv\n",
    "from matplotlib import pyplot as plt\n",
    "from matplotlib.pyplot import figure\n",
    "from tabulate import tabulate"
   ]
  },
  {
   "cell_type": "code",
   "execution_count": 2,
   "id": "flush-miami",
   "metadata": {},
   "outputs": [],
   "source": [
    "df = pd.read_csv('heart_failure_clinical_records_dataset.csv')"
   ]
  },
  {
   "cell_type": "code",
   "execution_count": 3,
   "id": "impressed-begin",
   "metadata": {},
   "outputs": [
    {
     "data": {
      "text/html": [
       "<div>\n",
       "<style scoped>\n",
       "    .dataframe tbody tr th:only-of-type {\n",
       "        vertical-align: middle;\n",
       "    }\n",
       "\n",
       "    .dataframe tbody tr th {\n",
       "        vertical-align: top;\n",
       "    }\n",
       "\n",
       "    .dataframe thead th {\n",
       "        text-align: right;\n",
       "    }\n",
       "</style>\n",
       "<table border=\"1\" class=\"dataframe\">\n",
       "  <thead>\n",
       "    <tr style=\"text-align: right;\">\n",
       "      <th></th>\n",
       "      <th>age</th>\n",
       "      <th>anaemia</th>\n",
       "      <th>creatinine_phosphokinase</th>\n",
       "      <th>diabetes</th>\n",
       "      <th>ejection_fraction</th>\n",
       "      <th>high_blood_pressure</th>\n",
       "      <th>platelets</th>\n",
       "      <th>serum_creatinine</th>\n",
       "      <th>serum_sodium</th>\n",
       "      <th>sex</th>\n",
       "      <th>smoking</th>\n",
       "      <th>time</th>\n",
       "      <th>DEATH_EVENT</th>\n",
       "    </tr>\n",
       "  </thead>\n",
       "  <tbody>\n",
       "    <tr>\n",
       "      <th>0</th>\n",
       "      <td>75.0</td>\n",
       "      <td>0</td>\n",
       "      <td>582</td>\n",
       "      <td>0</td>\n",
       "      <td>20</td>\n",
       "      <td>1</td>\n",
       "      <td>265000.00</td>\n",
       "      <td>1.9</td>\n",
       "      <td>130</td>\n",
       "      <td>1</td>\n",
       "      <td>0</td>\n",
       "      <td>4</td>\n",
       "      <td>1</td>\n",
       "    </tr>\n",
       "    <tr>\n",
       "      <th>1</th>\n",
       "      <td>55.0</td>\n",
       "      <td>0</td>\n",
       "      <td>7861</td>\n",
       "      <td>0</td>\n",
       "      <td>38</td>\n",
       "      <td>0</td>\n",
       "      <td>263358.03</td>\n",
       "      <td>1.1</td>\n",
       "      <td>136</td>\n",
       "      <td>1</td>\n",
       "      <td>0</td>\n",
       "      <td>6</td>\n",
       "      <td>1</td>\n",
       "    </tr>\n",
       "    <tr>\n",
       "      <th>2</th>\n",
       "      <td>65.0</td>\n",
       "      <td>0</td>\n",
       "      <td>146</td>\n",
       "      <td>0</td>\n",
       "      <td>20</td>\n",
       "      <td>0</td>\n",
       "      <td>162000.00</td>\n",
       "      <td>1.3</td>\n",
       "      <td>129</td>\n",
       "      <td>1</td>\n",
       "      <td>1</td>\n",
       "      <td>7</td>\n",
       "      <td>1</td>\n",
       "    </tr>\n",
       "    <tr>\n",
       "      <th>3</th>\n",
       "      <td>50.0</td>\n",
       "      <td>1</td>\n",
       "      <td>111</td>\n",
       "      <td>0</td>\n",
       "      <td>20</td>\n",
       "      <td>0</td>\n",
       "      <td>210000.00</td>\n",
       "      <td>1.9</td>\n",
       "      <td>137</td>\n",
       "      <td>1</td>\n",
       "      <td>0</td>\n",
       "      <td>7</td>\n",
       "      <td>1</td>\n",
       "    </tr>\n",
       "    <tr>\n",
       "      <th>4</th>\n",
       "      <td>65.0</td>\n",
       "      <td>1</td>\n",
       "      <td>160</td>\n",
       "      <td>1</td>\n",
       "      <td>20</td>\n",
       "      <td>0</td>\n",
       "      <td>327000.00</td>\n",
       "      <td>2.7</td>\n",
       "      <td>116</td>\n",
       "      <td>0</td>\n",
       "      <td>0</td>\n",
       "      <td>8</td>\n",
       "      <td>1</td>\n",
       "    </tr>\n",
       "  </tbody>\n",
       "</table>\n",
       "</div>"
      ],
      "text/plain": [
       "    age  anaemia  creatinine_phosphokinase  diabetes  ejection_fraction  \\\n",
       "0  75.0        0                       582         0                 20   \n",
       "1  55.0        0                      7861         0                 38   \n",
       "2  65.0        0                       146         0                 20   \n",
       "3  50.0        1                       111         0                 20   \n",
       "4  65.0        1                       160         1                 20   \n",
       "\n",
       "   high_blood_pressure  platelets  serum_creatinine  serum_sodium  sex  \\\n",
       "0                    1  265000.00               1.9           130    1   \n",
       "1                    0  263358.03               1.1           136    1   \n",
       "2                    0  162000.00               1.3           129    1   \n",
       "3                    0  210000.00               1.9           137    1   \n",
       "4                    0  327000.00               2.7           116    0   \n",
       "\n",
       "   smoking  time  DEATH_EVENT  \n",
       "0        0     4            1  \n",
       "1        0     6            1  \n",
       "2        1     7            1  \n",
       "3        0     7            1  \n",
       "4        0     8            1  "
      ]
     },
     "execution_count": 3,
     "metadata": {},
     "output_type": "execute_result"
    }
   ],
   "source": [
    "df.head() # example display of the dataset being used"
   ]
  },
  {
   "cell_type": "markdown",
   "id": "normal-death",
   "metadata": {},
   "source": [
    "### Continuous Variables\n",
    "    Ejection Fraction (%)\n",
    "    Creatinine Phosphokinase Level (U/L)"
   ]
  },
  {
   "cell_type": "markdown",
   "id": "swedish-lighter",
   "metadata": {},
   "source": [
    "### Binary Variables\n",
    "    High Blood Pressure (1/0)"
   ]
  },
  {
   "cell_type": "markdown",
   "id": "covered-remedy",
   "metadata": {},
   "source": [
    "# -Data Preparation-"
   ]
  },
  {
   "cell_type": "code",
   "execution_count": 4,
   "id": "athletic-hierarchy",
   "metadata": {},
   "outputs": [
    {
     "data": {
      "text/plain": [
       "False"
      ]
     },
     "execution_count": 4,
     "metadata": {},
     "output_type": "execute_result"
    }
   ],
   "source": [
    "# DATA PREPARATION\n",
    "\n",
    "# check for null\n",
    "df.isnull().values.any() # No null values"
   ]
  },
  {
   "cell_type": "code",
   "execution_count": 5,
   "id": "referenced-utilization",
   "metadata": {},
   "outputs": [
    {
     "data": {
      "text/html": [
       "<div>\n",
       "<style scoped>\n",
       "    .dataframe tbody tr th:only-of-type {\n",
       "        vertical-align: middle;\n",
       "    }\n",
       "\n",
       "    .dataframe tbody tr th {\n",
       "        vertical-align: top;\n",
       "    }\n",
       "\n",
       "    .dataframe thead th {\n",
       "        text-align: right;\n",
       "    }\n",
       "</style>\n",
       "<table border=\"1\" class=\"dataframe\">\n",
       "  <thead>\n",
       "    <tr style=\"text-align: right;\">\n",
       "      <th></th>\n",
       "      <th>age</th>\n",
       "      <th>anaemia</th>\n",
       "      <th>creatinine_phosphokinase</th>\n",
       "      <th>diabetes</th>\n",
       "      <th>ejection_fraction</th>\n",
       "      <th>high_blood_pressure</th>\n",
       "      <th>platelets</th>\n",
       "      <th>serum_creatinine</th>\n",
       "      <th>serum_sodium</th>\n",
       "      <th>sex</th>\n",
       "      <th>smoking</th>\n",
       "      <th>time</th>\n",
       "      <th>DEATH_EVENT</th>\n",
       "    </tr>\n",
       "  </thead>\n",
       "  <tbody>\n",
       "  </tbody>\n",
       "</table>\n",
       "</div>"
      ],
      "text/plain": [
       "Empty DataFrame\n",
       "Columns: [age, anaemia, creatinine_phosphokinase, diabetes, ejection_fraction, high_blood_pressure, platelets, serum_creatinine, serum_sodium, sex, smoking, time, DEATH_EVENT]\n",
       "Index: []"
      ]
     },
     "execution_count": 5,
     "metadata": {},
     "output_type": "execute_result"
    }
   ],
   "source": [
    "# age - sanity check\n",
    "df.loc[df['age'] > 100]"
   ]
  },
  {
   "cell_type": "code",
   "execution_count": 6,
   "id": "aquatic-walker",
   "metadata": {},
   "outputs": [
    {
     "data": {
      "text/html": [
       "<div>\n",
       "<style scoped>\n",
       "    .dataframe tbody tr th:only-of-type {\n",
       "        vertical-align: middle;\n",
       "    }\n",
       "\n",
       "    .dataframe tbody tr th {\n",
       "        vertical-align: top;\n",
       "    }\n",
       "\n",
       "    .dataframe thead th {\n",
       "        text-align: right;\n",
       "    }\n",
       "</style>\n",
       "<table border=\"1\" class=\"dataframe\">\n",
       "  <thead>\n",
       "    <tr style=\"text-align: right;\">\n",
       "      <th></th>\n",
       "      <th>anaemia</th>\n",
       "      <th>diabetes</th>\n",
       "      <th>high_blood_pressure</th>\n",
       "      <th>sex</th>\n",
       "      <th>smoking</th>\n",
       "      <th>DEATH_EVENT</th>\n",
       "    </tr>\n",
       "  </thead>\n",
       "  <tbody>\n",
       "    <tr>\n",
       "      <th>0</th>\n",
       "      <td>170</td>\n",
       "      <td>174</td>\n",
       "      <td>194</td>\n",
       "      <td>105</td>\n",
       "      <td>203</td>\n",
       "      <td>203</td>\n",
       "    </tr>\n",
       "    <tr>\n",
       "      <th>1</th>\n",
       "      <td>129</td>\n",
       "      <td>125</td>\n",
       "      <td>105</td>\n",
       "      <td>194</td>\n",
       "      <td>96</td>\n",
       "      <td>96</td>\n",
       "    </tr>\n",
       "  </tbody>\n",
       "</table>\n",
       "</div>"
      ],
      "text/plain": [
       "   anaemia  diabetes  high_blood_pressure  sex  smoking  DEATH_EVENT\n",
       "0      170       174                  194  105      203          203\n",
       "1      129       125                  105  194       96           96"
      ]
     },
     "execution_count": 6,
     "metadata": {},
     "output_type": "execute_result"
    }
   ],
   "source": [
    "# check binary variables\n",
    "\n",
    "df[['anaemia', 'diabetes', 'high_blood_pressure', 'sex', 'smoking', 'DEATH_EVENT']].apply(pd.Series.value_counts)"
   ]
  },
  {
   "cell_type": "code",
   "execution_count": 7,
   "id": "dried-completion",
   "metadata": {},
   "outputs": [
    {
     "data": {
      "text/plain": [
       "0    194\n",
       "1    105\n",
       "Name: high_blood_pressure, dtype: int64"
      ]
     },
     "execution_count": 7,
     "metadata": {},
     "output_type": "execute_result"
    }
   ],
   "source": [
    "# Count HBP vs nHBP\n",
    "df[\"high_blood_pressure\"].value_counts()"
   ]
  },
  {
   "cell_type": "markdown",
   "id": "optional-rough",
   "metadata": {},
   "source": [
    "n for HBP = 104\n"
   ]
  },
  {
   "cell_type": "markdown",
   "id": "altered-roberts",
   "metadata": {},
   "source": [
    "n for nHBP = 188"
   ]
  },
  {
   "cell_type": "markdown",
   "id": "polar-private",
   "metadata": {},
   "source": [
    "# -Data Exploration-"
   ]
  },
  {
   "cell_type": "markdown",
   "id": "cordless-spare",
   "metadata": {},
   "source": [
    "##     Ejection Fraction"
   ]
  },
  {
   "cell_type": "code",
   "execution_count": null,
   "id": "superb-calvin",
   "metadata": {
    "scrolled": false
   },
   "outputs": [
    {
     "name": "stdout",
     "output_type": "stream",
     "text": [
      "|        |   HBP |   Non-HBP |\n",
      "|--------+-------+-----------|\n",
      "| Min    |    17 |        14 |\n",
      "| Max    |    70 |        80 |\n",
      "| Median |    38 |        38 |\n",
      "| Q1     |    30 |        30 |\n",
      "| Q3     |    45 |        40 |\n",
      "| IQR    |    15 |        10 |\n"
     ]
    },
    {
     "data": {
      "image/png": "[encoded data removed]",
      "text/plain": [
       "<Figure size 720x360 with 1 Axes>"
      ]
     },
     "metadata": {
      "needs_background": "light"
     },
     "output_type": "display_data"
    }
   ],
   "source": [
    "# EJECTION FRACTION - Boxplot\n",
    "\n",
    "hbp = df.loc[df['high_blood_pressure'] == 1]['ejection_fraction']\n",
    "nHbp = df[df['high_blood_pressure'] == 0]['ejection_fraction']\n",
    "data = {'hbp': hbp, 'nHbp': nHbp}\n",
    "\n",
    "fig, ax = plt.subplots(1, 1, figsize=(10,5))\n",
    "bplot = ax.boxplot(data.values(), patch_artist=True, medianprops=dict(color='red', linewidth=2.5))\n",
    "ax.set_xticklabels(data.keys(), fontsize=15)\n",
    "\n",
    "plt.ylabel(\"Ejection Fraction Level (%)\")\n",
    "\n",
    "fig.suptitle(\"High Blood Pressure Vs Non-High Blood Pressure Patients and Their Ejection Fraction Levels\", fontsize=20)\n",
    "\n",
    "# Colors\n",
    "colors = ['#1f77b4', '#ff7f0e']\n",
    "for patch, color in zip(bplot['boxes'], colors):\n",
    "        patch.set_facecolor(color)\n",
    "\n",
    "table = [\n",
    "    [\"Min\", hbp.min(), nHbp.min()],\n",
    "    [\"Max\", hbp.max(), nHbp.max()],\n",
    "    [\"Median\", hbp.median(), nHbp.median()],\n",
    "    [\"Q1\", hbp.quantile(0.25), nHbp.quantile(0.25)],\n",
    "    [\"Q3\", hbp.quantile(0.75), nHbp.quantile(0.75)],\n",
    "    [\"IQR\", hbp.quantile(0.75)-hbp.quantile(0.25), nHbp.quantile(0.75)-nHbp.quantile(0.25)],\n",
    "]\n",
    "\n",
    "print(tabulate(table, headers=[\" \", \"HBP\", \"Non-HBP\"], tablefmt='orgtbl'))\n"
   ]
  },
  {
   "cell_type": "code",
   "execution_count": null,
   "id": "minute-savings",
   "metadata": {},
   "outputs": [],
   "source": [
    "# EJECTION FRACTION - Histogram\n",
    "\n",
    "hbp = df.loc[df['high_blood_pressure'] == 1]['ejection_fraction']\n",
    "nHbp = df[df['high_blood_pressure'] == 0]['ejection_fraction']\n",
    "data = {'hbp': hbp, 'nHbp': nHbp}\n",
    "\n",
    "fig, ax = plt.subplots(1, 1, figsize=(13,8))\n",
    "\n",
    "ax.grid()\n",
    "ax.hist([hbp, nHbp], bins=range(10,85,5), label=['High BP','not High BP'], edgecolor=\"black\")\n",
    "ax.legend(loc='upper right')\n",
    "plt.xlabel(\"Ejection Fraction Level\", fontsize=15)\n",
    "plt.ylabel(\"Frequency\", fontsize=15)\n",
    "ax.set_axisbelow(True)\n",
    "                 \n",
    "plt.title(\"High Blood Pressure Vs Non-High Blood Pressure Patients and Their Ejection Fraction Levels\", fontsize=20)\n",
    "\n",
    "table = [\n",
    "    [\"Min\", hbp.min(), nHbp.min()],\n",
    "    [\"Max\", hbp.max(), nHbp.max()],\n",
    "    [\"Median\", hbp.median(), nHbp.median()],\n",
    "    [\"Q1\", hbp.quantile(0.25), nHbp.quantile(0.25)],\n",
    "    [\"Q3\", hbp.quantile(0.75), nHbp.quantile(0.75)],\n",
    "    [\"IQR\", hbp.quantile(0.75)-hbp.quantile(0.25), nHbp.quantile(0.75)-nHbp.quantile(0.25)],\n",
    "]\n",
    "\n",
    "print(tabulate(table, headers=[\" \", \"HBP\", \"Non-HBP\"], tablefmt='orgtbl'))\n"
   ]
  },
  {
   "cell_type": "code",
   "execution_count": null,
   "id": "armed-bowling",
   "metadata": {},
   "outputs": [],
   "source": [
    "# EJECTION FRACTION - Histogram\n",
    "\n",
    "hbp = df.loc[df['high_blood_pressure'] == 1]['ejection_fraction']\n",
    "nHbp = df[df['high_blood_pressure'] == 0]['ejection_fraction']\n",
    "data = {'hbp': hbp, 'nHbp': nHbp}\n",
    "\n",
    "fig, ax = plt.subplots(1, 1, figsize=(13,8))\n",
    "\n",
    "ax.grid()\n",
    "ax.hist([hbp], bins=range(10,85,5), label=['High BP'], edgecolor=\"black\")\n",
    "ax.legend(loc='upper right')\n",
    "plt.xlabel(\"Ejection Fraction Level\", fontsize=15)\n",
    "plt.ylabel(\"Frequency\", fontsize=15)\n",
    "ax.set_axisbelow(True)\n",
    "                 \n",
    "plt.title(\"High Blood Pressure and Their Ejection Fraction Levels\", fontsize=20)\n",
    "\n"
   ]
  },
  {
   "cell_type": "code",
   "execution_count": null,
   "id": "formal-converter",
   "metadata": {},
   "outputs": [],
   "source": [
    "# EJECTION FRACTION - Histogram\n",
    "\n",
    "hbp = df.loc[df['high_blood_pressure'] == 1]['ejection_fraction']\n",
    "nHbp = df[df['high_blood_pressure'] == 0]['ejection_fraction']\n",
    "data = {'hbp': hbp, 'nHbp': nHbp}\n",
    "\n",
    "fig, ax = plt.subplots(1, 1, figsize=(13,8))\n",
    "\n",
    "ax.grid()\n",
    "ax.hist([nHbp], bins=range(10,85,5), label=['Not High BP'], edgecolor=\"black\", color=\"#ff7f0e\")\n",
    "ax.legend(loc='upper right')\n",
    "plt.xlabel(\"Ejection Fraction Level\", fontsize=15)\n",
    "plt.ylabel(\"Frequency\", fontsize=15)\n",
    "ax.set_axisbelow(True)\n",
    "                 \n",
    "plt.title(\"Non-High Blood Pressure Patients and Their Ejection Fraction Levels\", fontsize=20)\n",
    "\n"
   ]
  },
  {
   "cell_type": "markdown",
   "id": "approved-stand",
   "metadata": {},
   "source": [
    "## Creatinine Phosphokinase"
   ]
  },
  {
   "cell_type": "code",
   "execution_count": null,
   "id": "polyphonic-dining",
   "metadata": {
    "scrolled": false
   },
   "outputs": [],
   "source": [
    "# CREATININE PHOSPHOKINASE - Boxplot\n",
    "\n",
    "hbp = df.loc[df['high_blood_pressure'] == 1]['creatinine_phosphokinase']\n",
    "nHbp = df[df['high_blood_pressure'] == 0]['creatinine_phosphokinase']\n",
    "data = {'hbp': hbp, 'nHbp': nHbp}\n",
    "\n",
    "fig, ax = plt.subplots(1, 1, figsize=(10,10))\n",
    "bplot = ax.boxplot(data.values(), patch_artist=True, medianprops=dict(color='red', linewidth=2.5))\n",
    "ax.set_xticklabels(data.keys(), fontsize=20)\n",
    "ax.yaxis.grid(True)\n",
    "\n",
    "plt.title(\"High Blood Pressure Vs Non-High Blood Pressure Patients and Their Creatinine Phosphokinase Levels\", fontsize=20)\n",
    "\n",
    "# Colors\n",
    "colors = ['#1f77b4', '#ff7f0e']\n",
    "for patch, color in zip(bplot['boxes'], colors):\n",
    "        patch.set_facecolor(color)\n",
    "\n",
    "\n",
    "\n",
    "table = [\n",
    "    [\"Min\", hbp.min(), nHbp.min()],\n",
    "    [\"Max\", hbp.max(), nHbp.max()],\n",
    "    [\"Median\", hbp.median(), nHbp.median()],\n",
    "    [\"Q1\", hbp.quantile(0.25), nHbp.quantile(0.25)],\n",
    "    [\"Q3\", hbp.quantile(0.75), nHbp.quantile(0.75)],\n",
    "    [\"IQR\", hbp.quantile(0.75)-hbp.quantile(0.25), nHbp.quantile(0.75)-nHbp.quantile(0.25)],\n",
    "]\n",
    "\n",
    "print(tabulate(table, headers=[\" \", \"HBP\", \"Non-HBP\"], tablefmt='orgtbl'))\n"
   ]
  },
  {
   "cell_type": "markdown",
   "id": "ceramic-helen",
   "metadata": {},
   "source": [
    "***REMOVING ALL VALUES < 3000...***"
   ]
  },
  {
   "cell_type": "code",
   "execution_count": null,
   "id": "complex-custom",
   "metadata": {},
   "outputs": [],
   "source": [
    "df = df[df.creatinine_phosphokinase < 3000]"
   ]
  },
  {
   "cell_type": "code",
   "execution_count": null,
   "id": "basic-burst",
   "metadata": {
    "scrolled": true
   },
   "outputs": [],
   "source": [
    "%rerun 12"
   ]
  },
  {
   "cell_type": "code",
   "execution_count": null,
   "id": "bulgarian-child",
   "metadata": {},
   "outputs": [],
   "source": [
    "# CREATININE PHOSPHOKINASE - Histogram\n",
    "\n",
    "\n",
    "\n",
    "fig, ax = plt.subplots(1, 1, figsize=(15,10))\n",
    "\n",
    "ax.grid()\n",
    "ax.hist([hbp, nHbp], bins=range(0,3000,200),label=['High BP','not High BP'], edgecolor=\"black\")\n",
    "ax.legend(loc='upper right')\n",
    "plt.xlabel(\"Creatinine Pohsphokinase Level\", fontsize=15)\n",
    "plt.ylabel(\"Frequency\", fontsize=15)\n",
    "ax.set_axisbelow(True)\n",
    "\n",
    "plt.title(\"High Blood Pressure Vs Non-High Blood Pressure Patients and Their Creatinine Phosphokinase Levels\", fontsize=20)\n",
    "\n",
    "table = [\n",
    "    [\"Min\", hbp.min(), nHbp.min()],\n",
    "    [\"Max\", hbp.max(), nHbp.max()],\n",
    "    [\"Median\", hbp.median(), nHbp.median()],\n",
    "    [\"Q1\", hbp.quantile(0.25), nHbp.quantile(0.25)],\n",
    "    [\"Q3\", hbp.quantile(0.75), nHbp.quantile(0.75)],\n",
    "    [\"IQR\", hbp.quantile(0.75)-hbp.quantile(0.25), nHbp.quantile(0.75)-nHbp.quantile(0.25)],\n",
    "]\n",
    "\n",
    "print(tabulate(table, headers=[\" \", \"HBP\", \"Non-HBP\"], tablefmt='orgtbl'))\n"
   ]
  },
  {
   "cell_type": "code",
   "execution_count": null,
   "id": "integral-milwaukee",
   "metadata": {},
   "outputs": [],
   "source": [
    "# CREATININE PHOSPHOKINASE - Histogram\n",
    "\n",
    "fig, ax = plt.subplots(1, 1, figsize=(15,10))\n",
    "\n",
    "ax.grid()\n",
    "ax.hist([hbp], bins=range(0,3000,100),label=['High BP','not High BP'], edgecolor=\"black\")\n",
    "ax.legend(loc='upper right')\n",
    "plt.xlabel(\"Creatinine Pohsphokinase Level\", fontsize=15)\n",
    "plt.ylabel(\"Frequency\", fontsize=15)\n",
    "ax.set_axisbelow(True)\n",
    "\n",
    "plt.title(\"High Blood Pressure and Their Creatinine Phosphokinase Levels\", fontsize=20)\n",
    "\n",
    "table = [\n",
    "    [\"Min\", hbp.min()],\n",
    "    [\"Max\", hbp.max()],\n",
    "    [\"Median\", hbp.median()],\n",
    "    [\"Q1\", hbp.quantile(0.25)],\n",
    "    [\"Q3\", hbp.quantile(0.75)],\n",
    "    [\"IQR\", hbp.quantile(0.75)-hbp.quantile(0.25)],\n",
    "]\n",
    "\n",
    "print(tabulate(table, headers=[\" \", \"HBP\", \"Non-HBP\"], tablefmt='orgtbl'))"
   ]
  },
  {
   "cell_type": "code",
   "execution_count": null,
   "id": "pretty-reverse",
   "metadata": {},
   "outputs": [],
   "source": [
    "# CREATININE PHOSPHOKINASE - Histogram\n",
    "\n",
    "fig, ax = plt.subplots(1, 1, figsize=(15,10))\n",
    "\n",
    "ax.grid()\n",
    "ax.hist([nHbp], bins=range(0,3000,100),label=['not High BP'], edgecolor=\"black\", color=\"#ff7f0e\")\n",
    "ax.legend(loc='upper right')\n",
    "plt.xlabel(\"Creatinine Pohsphokinase Level\", fontsize=15)\n",
    "plt.ylabel(\"Frequency\", fontsize=15)\n",
    "ax.set_axisbelow(True)\n",
    "\n",
    "plt.title(\"Non-High Blood Pressure Patients and Their Creatinine Phosphokinase Levels\", fontsize=20)\n",
    "\n",
    "table = [\n",
    "    [\"Min\", nHbp.min()],\n",
    "    [\"Max\", nHbp.max()],\n",
    "    [\"Median\", nHbp.median()],\n",
    "    [\"Q1\", nHbp.quantile(0.25)],\n",
    "    [\"Q3\", nHbp.quantile(0.75)],\n",
    "    [\"IQR\", nHbp.quantile(0.75)-nHbp.quantile(0.25)],\n",
    "]\n",
    "\n",
    "print(tabulate(table, headers=[\" \", \"HBP\", \"Non-HBP\"], tablefmt='orgtbl'))"
   ]
  },
  {
   "cell_type": "markdown",
   "id": "technological-judges",
   "metadata": {},
   "source": [
    "## Ejection Fraction and Creatinine Phosphokinase"
   ]
  },
  {
   "cell_type": "code",
   "execution_count": null,
   "id": "amended-destination",
   "metadata": {},
   "outputs": [],
   "source": [
    "plt.figure(figsize=(15,8))\n",
    "\n",
    "plt.scatter(df['ejection_fraction'], df['creatinine_phosphokinase'])\n",
    "\n",
    "plt.grid()\n",
    "plt.rc('axes', axisbelow=True)\n",
    "plt.xlabel(\"Ejection fraction\")\n",
    "plt.ylabel(\"Creatinine Phosphokinase\")\n",
    "\n",
    "plt.xlabel(\"Ejection Fraction (%)\", fontsize=15)\n",
    "plt.ylabel(\"Creatinine Phosphokinase (U/L)\", fontsize=12)\n",
    "plt.title(\"Ejection Fraction vs Creatinine Phosphokinase\", fontsize=20)"
   ]
  },
  {
   "cell_type": "code",
   "execution_count": null,
   "id": "effective-check",
   "metadata": {},
   "outputs": [],
   "source": [
    "df['ejection_fraction'].value_counts()"
   ]
  },
  {
   "cell_type": "code",
   "execution_count": null,
   "id": "oriental-interim",
   "metadata": {},
   "outputs": [],
   "source": []
  }
 ],
 "metadata": {
  "kernelspec": {
   "display_name": "Python 3",
   "language": "python",
   "name": "python3"
  },
  "language_info": {
   "codemirror_mode": {
    "name": "ipython",
    "version": 3
   },
   "file_extension": ".py",
   "mimetype": "text/x-python",
   "name": "python",
   "nbconvert_exporter": "python",
   "pygments_lexer": "ipython3",
   "version": "3.8.5"
  }
 },
 "nbformat": 4,
 "nbformat_minor": 5
}
